{
 "cells": [
  {
   "cell_type": "markdown",
   "metadata": {},
   "source": [
    "# Training ANNs to learn the Van Der Pol equation"
   ]
  },
  {
   "cell_type": "markdown",
   "metadata": {},
   "source": [
    "Lets create and run a system per the 1993 paper \"Identification of Continuous-Time Dynamical Systems: Neural Network Based Algorithms and Parallel Implementation\" which can be found at https://arxiv.org/abs/comp-gas/9305001"
   ]
  },
  {
   "cell_type": "markdown",
   "metadata": {},
   "source": [
    "Lets see what Python shows for the Van Der Pol equation. "
   ]
  },
  {
   "cell_type": "code",
   "execution_count": 95,
   "metadata": {},
   "outputs": [],
   "source": [
    "#Settings used in https://arxiv.org/pdf/comp-gas/9305001.pdf\n",
    "mu = 1.\n",
    "delta = 4.0\n",
    "omega = 1.0\n",
    "\n",
    "#Settings used in https://arxiv.org/pdf/comp-gas/9305001.pdf\n",
    "#nSamples=500\n",
    "nSamples=10000\n",
    "\n",
    "#mu = 0.2\n",
    "#delta = 1.0\n",
    "#omega = 1.0\n"
   ]
  },
  {
   "cell_type": "code",
   "execution_count": 96,
   "metadata": {},
   "outputs": [
    {
     "data": {
      "image/png": "[encoded data removed]",
      "text/plain": [
       "<Figure size 432x288 with 1 Axes>"
      ]
     },
     "metadata": {
      "needs_background": "light"
     },
     "output_type": "display_data"
    }
   ],
   "source": [
    "# %load viewPredict.py\n",
    "import numpy as np\n",
    "from pylab import *\n",
    "from scipy.integrate import odeint\n",
    "\n",
    "def van_der_pol_oscillator_deriv(x, t):\n",
    "    nx0 = x[1]\n",
    "    nx1 = -mu * (x[0] ** 2.0 - delta) * x[1] - omega * x[0]\n",
    "    res = np.array([nx0, nx1])\n",
    "    return res\n",
    "\n",
    "ts = np.linspace(0.0, 50.0, nSamples)\n",
    "\n",
    "xs = odeint(van_der_pol_oscillator_deriv, [0.2, 0.2], ts)\n",
    "plt.plot(xs[:,0], xs[:,1])\n",
    "\n",
    "plt.show() \n"
   ]
  },
  {
   "cell_type": "markdown",
   "metadata": {},
   "source": [
    "We want to train using a 4th order Runga-Kutta integrator like the following which generates the file train.dat. Note we change the Van Der Pol paramters to be those in the paper."
   ]
  },
  {
   "cell_type": "code",
   "execution_count": 97,
   "metadata": {},
   "outputs": [
    {
     "data": {
      "image/png": "[encoded data removed]",
      "text/plain": [
       "<Figure size 432x288 with 1 Axes>"
      ]
     },
     "metadata": {
      "needs_background": "light"
     },
     "output_type": "display_data"
    }
   ],
   "source": [
    "# RK2D.py: Plot out time series of integration steps of a 2D ODE\n",
    "#      to illustrate the fourth-order Runge-Kutta method.\n",
    "#\n",
    "# For a 2D ODE\n",
    "#     dx/dt = f(x,y)\n",
    "#     dy/dt = g(x,y)\n",
    "# See RKTwoD() below for how the fourth-order Rungle-Kutta method integrates.\n",
    "#\n",
    "\n",
    "# Import plotting routines\n",
    "from pylab import *\n",
    "import numpy as np\n",
    "import struct\n",
    "\n",
    "# The van der Pol 2D ODE\n",
    "def van_der_pol_oscillator_deriv(x, t):\n",
    "    nx0 = x[1]\n",
    "    nx1 = -mu * (x[0] ** 2.0 - delta) * x[1] - omega * x[0]\n",
    "    res = np.array([nx0, nx1])\n",
    "    return res\n",
    "\n",
    "# 2D Fourth-Order Runge-Kutta Integrator\n",
    "def RKTwoD(x, f, t):\n",
    "    x = np.array(x)\n",
    "    k1 = dt * f(x,t)\n",
    "    k2 = dt * f(x + x / 2.0,t)\n",
    "    k3 = dt * f(x + k2 / 2.0,t)\n",
    "    k4 = dt * f(x + k3,t)\n",
    "    x = x + ( k1 + 2.0 * k2 + 2.0 * k3 + k4 ) / 6.0\n",
    "    return x\n",
    "\n",
    "# Simulation parameters\n",
    "# Integration time step\n",
    "dt = 0.1\n",
    "\n",
    "# Time\n",
    "t  = [ 0.0]\n",
    "\n",
    "# The main loop that generates the orbit, storing the states\n",
    "xs= np.empty((nSamples+1,2))\n",
    "xs[0]=[0.2,0.2]\n",
    "\n",
    "for i in range(0,nSamples):\n",
    "  # at each time step calculate new x(t) and y(t)\n",
    "  xs[i+1]=(RKTwoD(xs[i],van_der_pol_oscillator_deriv,dt))\n",
    "  t.append(t[i] + dt)\n",
    "    \n",
    "#convert this to binary\n",
    "fn = open('train.dat','wb')\n",
    "fn.write(bytearray(struct.pack('i',int(2))))\n",
    "fn.write(bytearray(struct.pack('i',int(2))))\n",
    "fn.write(bytearray(struct.pack('i',int(nSamples))))\n",
    "\n",
    "for i in range(0,nSamples):\n",
    "    # write input\n",
    "    fn.write(bytearray(struct.pack('f',xs[i][0]))) \n",
    "    fn.write(bytearray(struct.pack('f',xs[i][1]))) \n",
    "    #write output\n",
    "    fn.write(bytearray(struct.pack('f',xs[i+1][0]))) \n",
    "    fn.write(bytearray(struct.pack('f',xs[i+1][1]))) \n",
    "fn.close()\n",
    "\n",
    "#for i in range(0,nSamples):\n",
    " #   print(xs[i],xs[i+1])\n",
    "\n",
    "\n",
    "# Setup the parametric plot\n",
    "xlabel('x(t)') # set x-axis label\n",
    "ylabel('y(t)') # set y-axis label\n",
    "title('4th order Runge-Kutta Method: van der Pol ODE at u = ' + str(mu)) # set plot title\n",
    "#axis('equal')\n",
    "\n",
    "# Plot the trajectory in the phase plane\n",
    "plot(xs[:,0],xs[:,1],'b')\n",
    "show()"
   ]
  },
  {
   "cell_type": "markdown",
   "metadata": {},
   "source": [
    "We train the neural network with the following. The maximum runtime is 60 seconds, but it only takes around 40 seconds to run to completion.\n",
    "The file param.dat is deleted below so we start from random initial conditions.\n",
    "\n",
    "The following shows the basic configuration for this network"
   ]
  },
  {
   "cell_type": "code",
   "execution_count": 98,
   "metadata": {},
   "outputs": [],
   "source": [
    "f=open(\"FcnOfInterest_config.h\",\"w\")\n",
    "f.write(\"#define GFCN Tanh_G\\n\")\n",
    "f.write('#define RK4_H 0.1\\n')\n",
    "f.write('#define PREDFCN rhs\\n')\n",
    "f.write('#define EXPLICIT_RK4\\n')\n",
    "f.close()"
   ]
  },
  {
   "cell_type": "code",
   "execution_count": 99,
   "metadata": {},
   "outputs": [
    {
     "name": "stdout",
     "output_type": "stream",
     "text": [
      "training data in: train.dat\n",
      "using and/or writing params to: param.dat\n",
      "OMP_NUM_THREADS 24\n",
      "nInput 2 nOutput 2 nExamples 10000 in datafile (train.dat)\n",
      "*******************\n",
      "Objective Function: Least Means Squared\n",
      "Function of Interest: EXPLICIT RK4 twolayer 2x5x5x2\n",
      "Citation: https://arxiv.org/pdf/comp-gas/9305001.pdf\n",
      "RK4_H=0.100000 with G() tanh()\n",
      "Number params 57\n",
      "Max Runtime is 60 seconds\n",
      "Using NLOPT_LD_LBFGS\n",
      "\tOptimization Time 1.67678\n",
      "\tnlopt failed! ret -1\n",
      "RUNTIME Info (10000 examples)\n",
      "\tDataLoadtime 0.00427707 seconds\n",
      "\tAveObjTime 0.000602461, countObjFunc 130, totalObjTime 0.0777175\n",
      "\tEstimated Flops myFunc 217,average GFlop/s 3.60189 nFuncCalls 130\n",
      "\tEstimated maximum GFlop/s 4.28776, minimum GFLop/s 1.58078\n",
      "\tAveGradTime 0.0122418, nGradCalls 130, totalGradTime 1.59143\n",
      "\tnFuncCalls/nGradCalls 1.00\n"
     ]
    }
   ],
   "source": [
    "import subprocess\n",
    "output = subprocess.getoutput(['make -j'])\n",
    "output = subprocess.getoutput(['sh BUILD.python.module.sh'])\n",
    "\n",
    "output = subprocess.getoutput(['rm -f param.dat'])\n",
    "output = subprocess.getoutput(['./nloptTrain.x -p param.dat -d train.dat -t 60'])\n",
    "print(output)"
   ]
  },
  {
   "cell_type": "markdown",
   "metadata": {},
   "source": [
    "This shows we trained with the EXPLICIT RK4 implementation described in the paper. Let's look at the output by calling the C++ prediction function using the model parameters from the training run. We can then integrate to see if we learned the Van Der Pol equation."
   ]
  },
  {
   "cell_type": "code",
   "execution_count": 100,
   "metadata": {},
   "outputs": [
    {
     "data": {
      "image/png": "[encoded data removed]",
      "text/plain": [
       "<Figure size 432x288 with 1 Axes>"
      ]
     },
     "metadata": {
      "needs_background": "light"
     },
     "output_type": "display_data"
    }
   ],
   "source": [
    "# Import plotting routines\n",
    "from pylab import *\n",
    "import numpy as np\n",
    "import struct\n",
    "from farbopt import PyPredFcn\n",
    "\n",
    "from scipy.integrate import odeint\n",
    "\n",
    "def van_der_pol_oscillator_deriv(x, t):\n",
    "    nx0 = x[1]\n",
    "    nx1 = -mu * (x[0] ** 2.0 - delta) * x[1] - omega * x[0]\n",
    "    res = np.array([nx0, nx1])\n",
    "    return res\n",
    "\n",
    "ts = np.linspace(0.0, 50.0, nSamples)\n",
    "\n",
    "xs = odeint(van_der_pol_oscillator_deriv, [0.2, 0.2], ts)\n",
    "\n",
    "title('EXPLICIT NN 4th order Runge-Kutta Method: trained on data at u = ' + str(mu)) # set plot title\n",
    "\n",
    "plt.plot(xs[:,0], xs[:,1],'r')\n",
    "#plt.gca().set_aspect('equal')\n",
    "#plt.savefig('vanderpol_oscillator.png')\n",
    "plt.show() "
   ]
  },
  {
   "cell_type": "markdown",
   "metadata": {},
   "source": [
    "# Implicit implementation"
   ]
  },
  {
   "cell_type": "markdown",
   "metadata": {},
   "source": [
    "Looks good! Now lets try the implicit integrator using ANN recursion. See paper for more details"
   ]
  },
  {
   "cell_type": "code",
   "execution_count": 101,
   "metadata": {},
   "outputs": [],
   "source": [
    "# Simulation parameters\n",
    "# Integration time step\n",
    "# The number of time steps to integrate over\n",
    "#nSamples = 10000\n",
    "dt_step = 0.02\n",
    "nRecurIters=int(dt/dt_step) # we iterate to the previous dt\n",
    "writeImplicitData=1 # keep the previous data set\n",
    "\n",
    "def ImplicitMethod(x,f,t):\n",
    "    x = np.array(x)\n",
    "    Yn_1 = np.array(f(x,t))\n",
    "    t1 = np.array(f(x,t))\n",
    "    for i in range(nRecurIters):\n",
    "        Yn_1 = x + dt_step/2. * (t1 + np.array(f(Yn_1,t)))\n",
    "    return Yn_1"
   ]
  },
  {
   "cell_type": "code",
   "execution_count": 102,
   "metadata": {},
   "outputs": [
    {
     "data": {
      "image/png": "[encoded data removed]",
      "text/plain": [
       "<Figure size 432x288 with 1 Axes>"
      ]
     },
     "metadata": {
      "needs_background": "light"
     },
     "output_type": "display_data"
    }
   ],
   "source": [
    "#Implicit integrator\n",
    "\n",
    "# Import plotting routines\n",
    "from pylab import *\n",
    "import numpy as np\n",
    "import struct\n",
    "\n",
    "# The van der Pol 2D ODE\n",
    "def van_der_pol_oscillator_deriv(x, t):\n",
    "    nx0 = x[1]\n",
    "    nx1 = -mu * (x[0] ** 2.0 - delta) * x[1] - omega * x[0]\n",
    "    res = np.array([nx0, nx1])\n",
    "    return res\n",
    "\n",
    "\n",
    "# Time\n",
    "t  = [ 0.0]\n",
    "\n",
    "# The main loop that generates the orbit, storing the states\n",
    "xs= np.empty((nSamples+1,2))\n",
    "xs[0]=[0.2,0.2]\n",
    "\n",
    "for i in range(0,nSamples):\n",
    "  # at each time step calculate new x(t) and y(t)\n",
    "  xs[i+1]=(ImplicitMethod(xs[i],van_der_pol_oscillator_deriv,dt))\n",
    "  t.append(t[i] + dt)\n",
    "\n",
    "if(writeImplicitData != 0):\n",
    "    fn = open('train.dat','wb')\n",
    "    fn.write(bytearray(struct.pack('i',int(2))))\n",
    "    fn.write(bytearray(struct.pack('i',int(2))))\n",
    "    fn.write(bytearray(struct.pack('i',int(nSamples))))\n",
    "\n",
    "    for i in range(0,nSamples):\n",
    "        # write input\n",
    "        fn.write(bytearray(struct.pack('f',xs[i][0]))) \n",
    "        fn.write(bytearray(struct.pack('f',xs[i][1]))) \n",
    "        #write output\n",
    "        fn.write(bytearray(struct.pack('f',xs[i+1][0]))) \n",
    "        fn.write(bytearray(struct.pack('f',xs[i+1][1]))) \n",
    "    fn.close()\n",
    "\n",
    "#for i in range(0,nSamples):\n",
    " #   print(xs[i],xs[i+1])\n",
    "\n",
    "#\n",
    "# Setup the parametric plot\n",
    "xlabel('x(t)') # set x-axis label\n",
    "ylabel('y(t)') # set y-axis label\n",
    "title('PYTHON HAND CODED IMPLICIT Integration: van der Pol ODE at u = ' + str(mu)) # set plot title\n",
    "#axis('equal')\n",
    "\n",
    "# Plot the trajectory in the phase plane\n",
    "plot(xs[:,0],xs[:,1],'b')\n",
    "show()"
   ]
  },
  {
   "cell_type": "markdown",
   "metadata": {},
   "source": [
    "Looks good so let's train the network using the implicit integrator. Note this uses a form of recurrence connection. See paper for details."
   ]
  },
  {
   "cell_type": "code",
   "execution_count": 103,
   "metadata": {},
   "outputs": [],
   "source": [
    "f=open(\"FcnOfInterest_config.h\",\"w\")\n",
    "f.write(\"#define GFCN Tanh_G\\n\")\n",
    "f.write('#define PREDFCN rhs\\n')\n",
    "f.write('#define IMPLICIT_RK4\\n')\n",
    "f.write(str('#define RK4_H ' + str(dt_step) +'\\n'))\n",
    "f.write(str('#define RK4_RECURRENCE_LOOPS ' + str(nRecurIters) +'\\n'))\n",
    "f.close()"
   ]
  },
  {
   "cell_type": "code",
   "execution_count": 104,
   "metadata": {},
   "outputs": [
    {
     "name": "stdout",
     "output_type": "stream",
     "text": [
      "------------------------------------------------------------------------------------------\n",
      "training data in: train.dat\n",
      "using and/or writing params to: param.dat\n",
      "OMP_NUM_THREADS 24\n",
      "nInput 2 nOutput 2 nExamples 10000 in datafile (train.dat)\n",
      "*******************\n",
      "Objective Function: Least Means Squared\n",
      "Function of Interest: EXPLICIT RK4 twolayer 2x5x5x2\n",
      "Citation: https://arxiv.org/pdf/comp-gas/9305001.pdf\n",
      "RK4_H=0.020000 with G() tanh()\n",
      "Number params 57\n",
      "Max Runtime is 60 seconds\n",
      "Using NLOPT_LN_BOBYQA\n",
      "\tOptimization Time 60.0003\n",
      "\tfound minimum 0.0009408739897 ret 6\n",
      "RUNTIME Info (10000 examples)\n",
      "\tDataLoadtime 0.00584004 seconds\n",
      "\tAveObjTime 0.00067459, countObjFunc 56870, totalObjTime 38.3632\n",
      "\tEstimated Flops myFunc 217,average GFlop/s 3.21677 nFuncCalls 56870\n",
      "\tEstimated maximum GFlop/s 4.3195, minimum GFLop/s 0.200652\n",
      "------------------------------------------------------------------------------------------\n",
      "training data in: train.dat\n",
      "using and/or writing params to: param.dat\n",
      "OMP_NUM_THREADS 24\n",
      "nInput 2 nOutput 2 nExamples 10000 in datafile (train.dat)\n",
      "*******************\n",
      "Objective Function: Least Means Squared\n",
      "Function of Interest: EXPLICIT RK4 twolayer 2x5x5x2\n",
      "Citation: https://arxiv.org/pdf/comp-gas/9305001.pdf\n",
      "RK4_H=0.020000 with G() tanh()\n",
      "Number params 57\n",
      "Max Runtime is 60 seconds\n",
      "Using NLOPT_LD_TNEWTON_PRECOND_RESTART\n",
      "\tOptimization Time 35.8296\n",
      "\tfound minimum 0.0009244630719 ret 3\n",
      "RUNTIME Info (10000 examples)\n",
      "\tDataLoadtime 0.00491858 seconds\n",
      "\tAveObjTime 0.000938871, countObjFunc 2601, totalObjTime 2.44107\n",
      "\tEstimated Flops myFunc 217,average GFlop/s 2.31129 nFuncCalls 2601\n",
      "\tEstimated maximum GFlop/s 4.29849, minimum GFLop/s 0.396197\n",
      "\tAveGradTime 0.0128252, nGradCalls 2601, totalGradTime 33.3584\n",
      "\tnFuncCalls/nGradCalls 1.00\n"
     ]
    }
   ],
   "source": [
    "import subprocess\n",
    "output = subprocess.getoutput(['make -j'])\n",
    "output = subprocess.getoutput(['sh BUILD.python.module.sh'])\n",
    "\n",
    "output = subprocess.getoutput(['rm -f param.dat'])\n",
    "print(\"------------------------------------------------------------------------------------------\")\n",
    "output = subprocess.getoutput(['./nloptTrain.x -p param.dat -d train.dat -t 60 --LN_BOBYQA'])\n",
    "print(output)\n",
    "print(\"------------------------------------------------------------------------------------------\")\n",
    "output = subprocess.getoutput(['./nloptTrain.x -p param.dat -d train.dat -t 60 --LD_TNEWTON_PRECOND_RESTART'])\n",
    "print(output)"
   ]
  },
  {
   "cell_type": "code",
   "execution_count": 106,
   "metadata": {},
   "outputs": [
    {
     "data": {
      "image/png": "[encoded data removed]",
      "text/plain": [
       "<Figure size 432x288 with 1 Axes>"
      ]
     },
     "metadata": {
      "needs_background": "light"
     },
     "output_type": "display_data"
    }
   ],
   "source": [
    "# %load viewPredict.py\n",
    "import numpy as np\n",
    "from pylab import *\n",
    "from farbopt import PyPredFcn\n",
    "\n",
    "from scipy.integrate import odeint\n",
    "\n",
    "def predicted_rhs(x,t):\n",
    "    return RHS.predict(x)\n",
    "    \n",
    "def van_der_pol_oscillator_deriv(x, t):\n",
    "    nx0 = x[1]\n",
    "    nx1 = -mu * (x[0] ** 2.0 - delta) * x[1] - omega * x[0]\n",
    "    res = np.array([nx0, nx1])\n",
    "    return res\n",
    "\n",
    "ts = np.linspace(0.0, 50.0, nSamples)\n",
    "# Setup the parametric plot\n",
    "xlabel('x(t)') # set x-axis label\n",
    "ylabel('y(t)') # set y-axis label\n",
    "title('IMPLICIT Integration ODEINT: Trained network for van der Pol ODE at u = ' + str(mu)) # set plot title\n",
    "RHS=PyPredFcn(b'param.dat')\n",
    "\n",
    "xs = odeint(predicted_rhs, [0.2, 0.2], ts)\n",
    "plt.plot(xs[:,0], xs[:,1])\n",
    "plt.show() "
   ]
  },
  {
   "cell_type": "code",
   "execution_count": null,
   "metadata": {},
   "outputs": [],
   "source": []
  },
  {
   "cell_type": "code",
   "execution_count": null,
   "metadata": {},
   "outputs": [],
   "source": []
  }
 ],
 "metadata": {
  "kernelspec": {
   "display_name": "Python 3",
   "language": "python",
   "name": "python3"
  },
  "language_info": {
   "codemirror_mode": {
    "name": "ipython",
    "version": 3
   },
   "file_extension": ".py",
   "mimetype": "text/x-python",
   "name": "python",
   "nbconvert_exporter": "python",
   "pygments_lexer": "ipython3",
   "version": "3.7.1"
  }
 },
 "nbformat": 4,
 "nbformat_minor": 2
}
